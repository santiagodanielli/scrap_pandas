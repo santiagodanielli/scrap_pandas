{
 "cells": [
  {
   "cell_type": "code",
   "execution_count": 16,
   "metadata": {},
   "outputs": [],
   "source": [
    "import pandas as pd\n",
    "\n",
    "# crear variable de la web\n",
    "url = \"https://es.wikipedia.org/wiki/Organizaci%C3%B3n_territorial_de_M%C3%A9xico\"\n",
    "# leer la web\n",
    "tables = pd.read_html(url)\n",
    "# seleccionar la tabla de la web, en este caso la tercera (comienza a contar desde 0)\n",
    "table = tables[2]\n",
    "# crear dataframe\n",
    "df = pd.DataFrame(table)\n",
    "# exportar a formato excel\n",
    "df.to_excel(\"pob_estados_mex.xlsx\", index=False)\n"
   ]
  }
 ],
 "metadata": {
  "kernelspec": {
   "display_name": "Python 3",
   "language": "python",
   "name": "python3"
  },
  "language_info": {
   "codemirror_mode": {
    "name": "ipython",
    "version": 3
   },
   "file_extension": ".py",
   "mimetype": "text/x-python",
   "name": "python",
   "nbconvert_exporter": "python",
   "pygments_lexer": "ipython3",
   "version": "3.12.1"
  }
 },
 "nbformat": 4,
 "nbformat_minor": 2
}
